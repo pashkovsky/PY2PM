{
 "cells": [
  {
   "cell_type": "code",
   "execution_count": 12,
   "metadata": {
    "collapsed": true
   },
   "outputs": [],
   "source": [
    "# написать функцию, которая загружает указанные года и выводит ТОП-3 популярных имен\n",
    "import pandas as pd\n",
    "import os.path "
   ]
  },
  {
   "cell_type": "code",
   "execution_count": 17,
   "metadata": {
    "collapsed": true
   },
   "outputs": [],
   "source": [
    "path_to_file = '/Users/mykolapashkovsky/Dropbox/Git/netology/PY2PM/PY4_1/names/'"
   ]
  },
  {
   "cell_type": "code",
   "execution_count": 18,
   "metadata": {
    "collapsed": false
   },
   "outputs": [],
   "source": [
    "cols = ['Name', 'Gender','Count']\n",
    "names_1880 = pd.read_csv('/Users/mykolapashkovsky/Dropbox/Git/netology/PY2PM/PY4_1/names/yob1880.txt', names=cols)\n",
    "names_1900 = pd.read_csv('/Users/mykolapashkovsky/Dropbox/Git/netology/PY2PM/PY4_1/names/yob1900.txt', names=cols)\n",
    "names_1950 = pd.read_csv('/Users/mykolapashkovsky/Dropbox/Git/netology/PY2PM/PY4_1/names/yob1950.txt', names=cols)\n",
    "names_2000 = pd.read_csv('/Users/mykolapashkovsky/Dropbox/Git/netology/PY2PM/PY4_1/names/yob2000.txt', names=cols)"
   ]
  },
  {
   "cell_type": "code",
   "execution_count": 21,
   "metadata": {
    "collapsed": false
   },
   "outputs": [
    {
     "data": {
      "text/html": [
       "<div>\n",
       "<table border=\"1\" class=\"dataframe\">\n",
       "  <thead>\n",
       "    <tr style=\"text-align: right;\">\n",
       "      <th></th>\n",
       "      <th>Name</th>\n",
       "      <th>Gender</th>\n",
       "      <th>Count</th>\n",
       "    </tr>\n",
       "  </thead>\n",
       "  <tbody>\n",
       "    <tr>\n",
       "      <th>942</th>\n",
       "      <td>John</td>\n",
       "      <td>M</td>\n",
       "      <td>9655</td>\n",
       "    </tr>\n",
       "    <tr>\n",
       "      <th>943</th>\n",
       "      <td>William</td>\n",
       "      <td>M</td>\n",
       "      <td>9531</td>\n",
       "    </tr>\n",
       "    <tr>\n",
       "      <th>0</th>\n",
       "      <td>Mary</td>\n",
       "      <td>F</td>\n",
       "      <td>7065</td>\n",
       "    </tr>\n",
       "  </tbody>\n",
       "</table>\n",
       "</div>"
      ],
      "text/plain": [
       "        Name Gender  Count\n",
       "942     John      M   9655\n",
       "943  William      M   9531\n",
       "0       Mary      F   7065"
      ]
     },
     "execution_count": 21,
     "metadata": {},
     "output_type": "execute_result"
    }
   ],
   "source": [
    "names_1880.sort_values(by = 'Count', ascending = False).head(3)"
   ]
  },
  {
   "cell_type": "code",
   "execution_count": null,
   "metadata": {
    "collapsed": true
   },
   "outputs": [],
   "source": [
    "# Задача №1\n",
    "# С использованием Pandas написать функцию, которая загружает указанные года и выводит ТОП-3 популярных имен."
   ]
  },
  {
   "cell_type": "code",
   "execution_count": 62,
   "metadata": {
    "collapsed": true
   },
   "outputs": [],
   "source": [
    "def count_top3(years):\n",
    "    cols = ['Name', 'Gender','Count']\n",
    "    file = {}\n",
    "    for year in years:\n",
    "        file[year] = pd.read_csv(os.path.join(path_to_file,'yob{0}.txt'.format(year)), names=cols)\n",
    "    data_set = pd.concat(file).groupby('Name').sum().sort_values(by = 'Count', ascending = False).head(3)\n",
    "    response = data_set.axes[0].tolist()\n",
    "    return response\n"
   ]
  },
  {
   "cell_type": "code",
   "execution_count": 63,
   "metadata": {
    "collapsed": false
   },
   "outputs": [
    {
     "data": {
      "text/plain": [
       "True"
      ]
     },
     "execution_count": 63,
     "metadata": {},
     "output_type": "execute_result"
    }
   ],
   "source": [
    "count_top3([1880]) == ['John', 'William', 'Mary']"
   ]
  },
  {
   "cell_type": "code",
   "execution_count": 64,
   "metadata": {
    "collapsed": false
   },
   "outputs": [
    {
     "data": {
      "text/plain": [
       "True"
      ]
     },
     "execution_count": 64,
     "metadata": {},
     "output_type": "execute_result"
    }
   ],
   "source": [
    "count_top3([1900, 1950, 2000]) == ['James', 'John', 'Robert']"
   ]
  },
  {
   "cell_type": "code",
   "execution_count": 65,
   "metadata": {
    "collapsed": true
   },
   "outputs": [],
   "source": [
    "# Задача №2\n",
    "# С использованием Pandas написать функцию, которая возвращает динамику изменения количества имен за указанные года в разрезе полов."
   ]
  },
  {
   "cell_type": "code",
   "execution_count": 121,
   "metadata": {
    "collapsed": false
   },
   "outputs": [],
   "source": [
    "def count_dynamics(years):\n",
    "    cols = ['Name', 'Gender','Count']\n",
    "    file = {}\n",
    "    response = {}\n",
    "    for year in years:\n",
    "        file[year] = pd.read_csv(os.path.join(path_to_file,'yob{0}.txt'.format(year)), names=cols).groupby('Gender').sum()\n",
    "    response['F'] = pd.concat(file).query('Gender == \"F\"').Count.tolist()\n",
    "    response['M'] = pd.concat(file).query('Gender == \"M\"').Count.tolist()\n",
    "    print(response)\n",
    "    return response"
   ]
  },
  {
   "cell_type": "code",
   "execution_count": 122,
   "metadata": {
    "collapsed": false
   },
   "outputs": [
    {
     "name": "stdout",
     "output_type": "stream",
     "text": [
      "{'F': [299822, 1713450, 1814738], 'M': [150490, 1791474, 1962556]}\n"
     ]
    },
    {
     "data": {
      "text/plain": [
       "True"
      ]
     },
     "execution_count": 122,
     "metadata": {},
     "output_type": "execute_result"
    }
   ],
   "source": [
    "count_dynamics([1900, 1950, 2000]) == {\n",
    "          'F': [299822, 1713450, 1814738],\n",
    "          'M': [150490, 1791474, 1962556]\n",
    "        }"
   ]
  }
 ],
 "metadata": {
  "kernelspec": {
   "display_name": "Python 3",
   "language": "python",
   "name": "python3"
  },
  "language_info": {
   "codemirror_mode": {
    "name": "ipython",
    "version": 3
   },
   "file_extension": ".py",
   "mimetype": "text/x-python",
   "name": "python",
   "nbconvert_exporter": "python",
   "pygments_lexer": "ipython3",
   "version": "3.6.0"
  }
 },
 "nbformat": 4,
 "nbformat_minor": 2
}
